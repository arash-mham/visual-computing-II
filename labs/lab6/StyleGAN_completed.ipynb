{
  "cells": [
    {
      "cell_type": "code",
      "execution_count": null,
      "metadata": {
        "id": "Qi6YsQV_yoPN"
      },
      "outputs": [],
      "source": [
        "#@title Setup model\n",
        "\n",
        "import os\n",
        "os.chdir('/content')\n",
        "\n",
        "!unzip stylegan2.zip\n",
        "\n",
        "!wget https://github.com/ninja-build/ninja/releases/download/v1.8.2/ninja-linux.zip\n",
        "!sudo unzip ninja-linux.zip -d /usr/local/bin/\n",
        "!sudo update-alternatives --install /usr/bin/ninja ninja /usr/local/bin/ninja 1 --force"
      ]
    },
    {
      "cell_type": "code",
      "execution_count": null,
      "metadata": {
        "id": "Q_NZcAj0zNsz"
      },
      "outputs": [],
      "source": [
        "#@title import modules\n",
        "\n",
        "import numpy as np\n",
        "from PIL import Image\n",
        "import torch\n",
        "import torchvision.transforms as transforms\n",
        "\n",
        "%pip install -q ipywidgets\n",
        "from ipywidgets import interact, interactive, fixed, interact_manual\n",
        "import ipywidgets as widgets\n",
        "\n",
        "from stylegan2.model import Generator"
      ]
    },
    {
      "cell_type": "code",
      "execution_count": null,
      "metadata": {
        "colab": {
          "base_uri": "https://localhost:8080/"
        },
        "id": "cY4ToMXvz3-q",
        "outputId": "1450898f-2a17-47e9-8953-c3684358895c"
      },
      "outputs": [
        {
          "name": "stdout",
          "output_type": "stream",
          "text": [
            "/pretrained_models\n"
          ]
        }
      ],
      "source": [
        "#download checkpoint\n",
        "#@title Setup files downloader\n",
        "from pydrive.auth import GoogleAuth\n",
        "from pydrive.drive import GoogleDrive\n",
        "from google.colab import auth\n",
        "from oauth2client.client import GoogleCredentials\n",
        "\n",
        "download_with_pydrive = True \n",
        "\n",
        "CODE_DIR = ''\n",
        "class Downloader(object):\n",
        "    def __init__(self, use_pydrive):\n",
        "        self.use_pydrive = use_pydrive\n",
        "        current_directory = os.getcwd()\n",
        "        self.save_dir = os.path.join(os.path.dirname(current_directory), CODE_DIR, \"pretrained_models\")\n",
        "        os.makedirs(self.save_dir, exist_ok=True)\n",
        "        print(self.save_dir)\n",
        "        if self.use_pydrive:\n",
        "            self.authenticate()\n",
        "\n",
        "    def authenticate(self):\n",
        "        auth.authenticate_user()\n",
        "        gauth = GoogleAuth()\n",
        "        gauth.credentials = GoogleCredentials.get_application_default()\n",
        "        self.drive = GoogleDrive(gauth)\n",
        "\n",
        "    def download_file(self, file_id, file_name):\n",
        "        file_dst = f'{self.save_dir}/{file_name}'\n",
        "        if os.path.exists(file_dst):\n",
        "            print(f'{file_name} already exists!')\n",
        "            return\n",
        "        if self.use_pydrive:\n",
        "            downloaded = self.drive.CreateFile({'id':file_id})\n",
        "            downloaded.FetchMetadata(fetch_all=True)\n",
        "            downloaded.GetContentFile(file_dst)\n",
        "        else:\n",
        "            !gdown --id $file_id -O $file_dst\n",
        "\n",
        "downloader = Downloader(download_with_pydrive)\n",
        "id = '1EM87UquaoQmk17Q8d5kYIAHqu0dkYqdT'\n",
        "file_name = 'stylegan2-ffhq-config-f.pt'\n",
        "\n",
        "downloader.download_file(id, file_name)\n"
      ]
    },
    {
      "cell_type": "code",
      "execution_count": null,
      "metadata": {
        "id": "uKriRUgs1BiA"
      },
      "outputs": [],
      "source": [
        "class Generator_Wrapper:\n",
        "  def __init__(self):\n",
        "    self.model = Generator(1024, 512, 8).to('cuda')\n",
        "    self.init_weights()\n",
        "    self.face_pool = torch.nn.AdaptiveAvgPool2d((256, 256))\n",
        "  def init_weights(self):\n",
        "    self.model.load_state_dict(torch.load('../pretrained_models/stylegan2-ffhq-config-f.pt')['g_ema'])\n",
        "\n",
        "  def generate_image(self, input = None, input_is_latent = False, num_images = 1):\n",
        "    if input is None:\n",
        "      input = torch.randn((num_images, 512)).cuda()\n",
        "    \n",
        "    with torch.no_grad():\n",
        "      out, latents = self.model([input], input_is_latent = input_is_latent, return_latents = True)\n",
        "      out = self.face_pool(out)\n",
        "      return out, latents\n",
        "\n",
        "  def tensor2image(self, out):\n",
        "    #TODO: given tensor of size (B, 3, 256, 256) in the range(-1, 1) return a PIL Image with size (256, 256 * B, 3)\n",
        "    out = out.permute(0, 2, 3, 1).clamp(-1, 1).detach().cpu().numpy()\n",
        "    out = ((out + 1) * 127.5).astype('uint8')\n",
        "\n",
        "    out = np.concatenate(out, axis = 1)\n",
        "    return Image.fromarray(out)\n",
        "    "
      ]
    },
    {
      "cell_type": "code",
      "execution_count": null,
      "metadata": {
        "id": "JdiySyDM2dny"
      },
      "outputs": [],
      "source": [
        "G = Generator_Wrapper()\n",
        "images, latents = G.generate_image(num_images = 4)"
      ]
    },
    {
      "cell_type": "code",
      "execution_count": null,
      "metadata": {
        "id": "bj0Ne8vg3TOd"
      },
      "outputs": [],
      "source": [
        "G.tensor2image(images)"
      ]
    },
    {
      "cell_type": "code",
      "execution_count": null,
      "metadata": {
        "id": "2eHRcBs846bJ"
      },
      "outputs": [],
      "source": [
        "#@title Latent interpolation\n",
        "\n",
        "#TODO: generate two images with latents and visualize\n",
        "images, latents = G.generate_image(num_images = 2)\n",
        "G.tensor2image(images)"
      ]
    },
    {
      "cell_type": "code",
      "execution_count": null,
      "metadata": {
        "id": "jxN7xYpO5O53"
      },
      "outputs": [],
      "source": [
        "#interpolate two latents\n",
        "def mix_latents(mix_scale):\n",
        "  #TODO: interpolate between two latents generated above. mix_scale is the interpolation coefficient\n",
        "  new_latent = latents[0] * (mix_scale) + latents[1] * (1 - mix_scale)\n",
        "  image, _ = G.generate_image(new_latent, input_is_latent = True)\n",
        "  image = G.tensor2image(image)\n",
        "  return image"
      ]
    },
    {
      "cell_type": "code",
      "execution_count": null,
      "metadata": {
        "colab": {
          "background_save": true
        },
        "id": "it9E0GZi5tcD"
      },
      "outputs": [],
      "source": [
        "#make slider and show\n",
        "\n",
        "interact(mix_latents, mix_scale=widgets.FloatSlider(0.5, min=0, max=1., step=0.05))"
      ]
    }
  ],
  "metadata": {
    "accelerator": "GPU",
    "colab": {
      "provenance": []
    },
    "gpuClass": "standard",
    "kernelspec": {
      "display_name": "Python 3",
      "name": "python3"
    },
    "language_info": {
      "name": "python"
    }
  },
  "nbformat": 4,
  "nbformat_minor": 0
}